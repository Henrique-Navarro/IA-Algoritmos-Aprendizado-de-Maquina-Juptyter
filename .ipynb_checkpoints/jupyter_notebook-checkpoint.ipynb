{
 "cells": [
  {
   "cell_type": "markdown",
   "id": "735901ea",
   "metadata": {},
   "source": [
    "> Trabalho da disciplina de Inteligência Artificial sobre Algoritmos de Aprendizado de Máquina.\n",
    ">> Feito por: **Henrique Navarro Morais.**"
   ]
  },
  {
   "cell_type": "markdown",
   "id": "2d1ea963",
   "metadata": {},
   "source": [
    "# Importações necessárias"
   ]
  },
  {
   "cell_type": "code",
   "execution_count": 1,
   "id": "5ab30639",
   "metadata": {},
   "outputs": [],
   "source": [
    "import pandas as pd\n",
    "import random\n",
    "import numpy as np\n",
    "from sklearn import *"
   ]
  },
  {
   "cell_type": "code",
   "execution_count": null,
   "id": "3d91168c",
   "metadata": {},
   "outputs": [],
   "source": [
    "#Instação da extensão 'Collapsible Headings' para melhor visualização dos cabeçalhos\n",
    "import os\n",
    "os.system('pip install -q jupyter_contrib_nbextensions')\n",
    "os.system('jupyter contrib nbextension install --user')\n",
    "os.system('jupyter nbextension enable collapsible_headings/main --quiet')"
   ]
  },
  {
   "cell_type": "markdown",
   "id": "cb3e3047",
   "metadata": {},
   "source": [
    "# Sobre a Base de Dados"
   ]
  },
  {
   "cell_type": "markdown",
   "id": "6487221b",
   "metadata": {},
   "source": [
    "> A base de dados possui diversos atributos sobre diversas pessoas adultas dos EUS, e seu principal objetivo é apontar se a renda do indivíduo é inferior ou superior a 50K.\n",
    ">\n",
    "> Link da base de dados: https://archive.ics.uci.edu/ml/datasets/Adult"
   ]
  },
  {
   "cell_type": "markdown",
   "id": "f680d8f7",
   "metadata": {},
   "source": [
    " > Foram feitas diversas operações na base de dados original, de forma que os dados foram tratados, limpos, convertidos e padronizados. Justamante para melhorar a qualidade e a confiabilidade dos dados a fim de serem usados por algoritmos de aprendizado de máquina.\n",
    "> \n",
    "> Será feita a importação de 2 versões da base de dados, uma versão sem os atributos desnecessários, sem os exemplos denecessários e duplicados, e outra com essas mesmas características, porém, com todos os dados convertidos para numéricos e padronizados.\n",
    ">\n",
    "> O atributo de saída da base de dados é a **Renda**, de forma que na base de dados numérica, padronizada com valores de -10 a +10, os exemplos com valor igual a <=50K serão representadas como -10, já os exemplos que assumirem o valor de >50K, serão representados como +10."
   ]
  },
  {
   "cell_type": "code",
   "execution_count": 2,
   "id": "5f0ce9d3",
   "metadata": {},
   "outputs": [],
   "source": [
    "db_clean = pd.read_csv('./databases/db_clean.csv')\n",
    "db = pd.read_csv('./databases/db_num_ree.csv')"
   ]
  },
  {
   "cell_type": "code",
   "execution_count": 3,
   "id": "fe735b47",
   "metadata": {},
   "outputs": [
    {
     "data": {
      "text/html": [
       "<div>\n",
       "<style scoped>\n",
       "    .dataframe tbody tr th:only-of-type {\n",
       "        vertical-align: middle;\n",
       "    }\n",
       "\n",
       "    .dataframe tbody tr th {\n",
       "        vertical-align: top;\n",
       "    }\n",
       "\n",
       "    .dataframe thead th {\n",
       "        text-align: right;\n",
       "    }\n",
       "</style>\n",
       "<table border=\"1\" class=\"dataframe\">\n",
       "  <thead>\n",
       "    <tr style=\"text-align: right;\">\n",
       "      <th></th>\n",
       "      <th>Idade</th>\n",
       "      <th>Classe Trabalhadora</th>\n",
       "      <th>Educacao</th>\n",
       "      <th>Num Educacao</th>\n",
       "      <th>Ocupacao</th>\n",
       "      <th>Ganho de Capital</th>\n",
       "      <th>Perda de Capital</th>\n",
       "      <th>Horas por Semana</th>\n",
       "      <th>Renda</th>\n",
       "    </tr>\n",
       "  </thead>\n",
       "  <tbody>\n",
       "    <tr>\n",
       "      <th>0</th>\n",
       "      <td>39</td>\n",
       "      <td>State-gov</td>\n",
       "      <td>Bachelors</td>\n",
       "      <td>13</td>\n",
       "      <td>Adm-clerical</td>\n",
       "      <td>2174</td>\n",
       "      <td>0</td>\n",
       "      <td>40</td>\n",
       "      <td>&lt;=50K</td>\n",
       "    </tr>\n",
       "    <tr>\n",
       "      <th>1</th>\n",
       "      <td>50</td>\n",
       "      <td>Self-emp-not-inc</td>\n",
       "      <td>Bachelors</td>\n",
       "      <td>13</td>\n",
       "      <td>Exec-managerial</td>\n",
       "      <td>0</td>\n",
       "      <td>0</td>\n",
       "      <td>13</td>\n",
       "      <td>&lt;=50K</td>\n",
       "    </tr>\n",
       "    <tr>\n",
       "      <th>2</th>\n",
       "      <td>38</td>\n",
       "      <td>Private</td>\n",
       "      <td>HS-grad</td>\n",
       "      <td>9</td>\n",
       "      <td>Handlers-cleaners</td>\n",
       "      <td>0</td>\n",
       "      <td>0</td>\n",
       "      <td>40</td>\n",
       "      <td>&lt;=50K</td>\n",
       "    </tr>\n",
       "    <tr>\n",
       "      <th>3</th>\n",
       "      <td>53</td>\n",
       "      <td>Private</td>\n",
       "      <td>11th</td>\n",
       "      <td>7</td>\n",
       "      <td>Handlers-cleaners</td>\n",
       "      <td>0</td>\n",
       "      <td>0</td>\n",
       "      <td>40</td>\n",
       "      <td>&lt;=50K</td>\n",
       "    </tr>\n",
       "    <tr>\n",
       "      <th>4</th>\n",
       "      <td>28</td>\n",
       "      <td>Private</td>\n",
       "      <td>Bachelors</td>\n",
       "      <td>13</td>\n",
       "      <td>Prof-specialty</td>\n",
       "      <td>0</td>\n",
       "      <td>0</td>\n",
       "      <td>40</td>\n",
       "      <td>&lt;=50K</td>\n",
       "    </tr>\n",
       "  </tbody>\n",
       "</table>\n",
       "</div>"
      ],
      "text/plain": [
       "   Idade Classe Trabalhadora    Educacao  Num Educacao            Ocupacao  \\\n",
       "0     39           State-gov   Bachelors            13        Adm-clerical   \n",
       "1     50    Self-emp-not-inc   Bachelors            13     Exec-managerial   \n",
       "2     38             Private     HS-grad             9   Handlers-cleaners   \n",
       "3     53             Private        11th             7   Handlers-cleaners   \n",
       "4     28             Private   Bachelors            13      Prof-specialty   \n",
       "\n",
       "   Ganho de Capital  Perda de Capital  Horas por Semana   Renda  \n",
       "0              2174                 0                40   <=50K  \n",
       "1                 0                 0                13   <=50K  \n",
       "2                 0                 0                40   <=50K  \n",
       "3                 0                 0                40   <=50K  \n",
       "4                 0                 0                40   <=50K  "
      ]
     },
     "metadata": {},
     "output_type": "display_data"
    },
    {
     "data": {
      "text/html": [
       "<div>\n",
       "<style scoped>\n",
       "    .dataframe tbody tr th:only-of-type {\n",
       "        vertical-align: middle;\n",
       "    }\n",
       "\n",
       "    .dataframe tbody tr th {\n",
       "        vertical-align: top;\n",
       "    }\n",
       "\n",
       "    .dataframe thead th {\n",
       "        text-align: right;\n",
       "    }\n",
       "</style>\n",
       "<table border=\"1\" class=\"dataframe\">\n",
       "  <thead>\n",
       "    <tr style=\"text-align: right;\">\n",
       "      <th></th>\n",
       "      <th>Idade</th>\n",
       "      <th>Classe Trabalhadora</th>\n",
       "      <th>Educacao</th>\n",
       "      <th>Num Educacao</th>\n",
       "      <th>Ocupacao</th>\n",
       "      <th>Ganho de Capital</th>\n",
       "      <th>Perda de Capital</th>\n",
       "      <th>Horas por Semana</th>\n",
       "      <th>Renda</th>\n",
       "    </tr>\n",
       "  </thead>\n",
       "  <tbody>\n",
       "    <tr>\n",
       "      <th>0</th>\n",
       "      <td>-3.230769</td>\n",
       "      <td>-10.0</td>\n",
       "      <td>-10.000000</td>\n",
       "      <td>6.000000</td>\n",
       "      <td>-10.000000</td>\n",
       "      <td>-8.277065</td>\n",
       "      <td>-10.0</td>\n",
       "      <td>-0.370370</td>\n",
       "      <td>-10.0</td>\n",
       "    </tr>\n",
       "    <tr>\n",
       "      <th>1</th>\n",
       "      <td>0.153846</td>\n",
       "      <td>-7.5</td>\n",
       "      <td>-10.000000</td>\n",
       "      <td>6.000000</td>\n",
       "      <td>-8.571429</td>\n",
       "      <td>-10.000000</td>\n",
       "      <td>-10.0</td>\n",
       "      <td>-7.037037</td>\n",
       "      <td>-10.0</td>\n",
       "    </tr>\n",
       "    <tr>\n",
       "      <th>2</th>\n",
       "      <td>-3.538462</td>\n",
       "      <td>-5.0</td>\n",
       "      <td>-8.666667</td>\n",
       "      <td>0.666667</td>\n",
       "      <td>-7.142857</td>\n",
       "      <td>-10.000000</td>\n",
       "      <td>-10.0</td>\n",
       "      <td>-0.370370</td>\n",
       "      <td>-10.0</td>\n",
       "    </tr>\n",
       "    <tr>\n",
       "      <th>3</th>\n",
       "      <td>1.076923</td>\n",
       "      <td>-5.0</td>\n",
       "      <td>-7.333333</td>\n",
       "      <td>-2.000000</td>\n",
       "      <td>-7.142857</td>\n",
       "      <td>-10.000000</td>\n",
       "      <td>-10.0</td>\n",
       "      <td>-0.370370</td>\n",
       "      <td>-10.0</td>\n",
       "    </tr>\n",
       "    <tr>\n",
       "      <th>4</th>\n",
       "      <td>-6.615385</td>\n",
       "      <td>-5.0</td>\n",
       "      <td>-10.000000</td>\n",
       "      <td>6.000000</td>\n",
       "      <td>-5.714286</td>\n",
       "      <td>-10.000000</td>\n",
       "      <td>-10.0</td>\n",
       "      <td>-0.370370</td>\n",
       "      <td>-10.0</td>\n",
       "    </tr>\n",
       "  </tbody>\n",
       "</table>\n",
       "</div>"
      ],
      "text/plain": [
       "      Idade  Classe Trabalhadora   Educacao  Num Educacao   Ocupacao  \\\n",
       "0 -3.230769                -10.0 -10.000000      6.000000 -10.000000   \n",
       "1  0.153846                 -7.5 -10.000000      6.000000  -8.571429   \n",
       "2 -3.538462                 -5.0  -8.666667      0.666667  -7.142857   \n",
       "3  1.076923                 -5.0  -7.333333     -2.000000  -7.142857   \n",
       "4 -6.615385                 -5.0 -10.000000      6.000000  -5.714286   \n",
       "\n",
       "   Ganho de Capital  Perda de Capital  Horas por Semana  Renda  \n",
       "0         -8.277065             -10.0         -0.370370  -10.0  \n",
       "1        -10.000000             -10.0         -7.037037  -10.0  \n",
       "2        -10.000000             -10.0         -0.370370  -10.0  \n",
       "3        -10.000000             -10.0         -0.370370  -10.0  \n",
       "4        -10.000000             -10.0         -0.370370  -10.0  "
      ]
     },
     "metadata": {},
     "output_type": "display_data"
    }
   ],
   "source": [
    "display(db_clean.head())\n",
    "display(db.head())"
   ]
  },
  {
   "cell_type": "markdown",
   "id": "a18908cd",
   "metadata": {},
   "source": [
    "# Técnica de Validação"
   ]
  },
  {
   "cell_type": "markdown",
   "id": "c8f5f89c",
   "metadata": {},
   "source": [
    "> O método hold-out envolve a divisão do conjunto de dados em dois subconjuntos distintos: um conjunto de **treinamento** e um conjunto de **teste.** O conjunto de treinamento é usado para treinar o modelo, ajustando seus parâmetros com base nos dados fornecidos. O conjunto de teste, por sua vez, é usado para avaliar o desempenho do modelo após o treinamento.\n",
    "> \n",
    "> A base de dados analisada foi dividida **20%** dos exemplos serão usados como **testes** e os **80%** restantes dos exemplos serão usados para **treino.**"
   ]
  },
  {
   "cell_type": "code",
   "execution_count": 4,
   "id": "7857f4cb",
   "metadata": {},
   "outputs": [],
   "source": [
    "def split_dataset(dataset, test_ratio):\n",
    "    dataset_array = dataset.to_numpy()\n",
    "    num_samples = len(dataset_array)\n",
    "    np.random.shuffle(dataset_array)\n",
    "    num_test_samples = int(num_samples * test_ratio)\n",
    "    train_data = dataset_array[num_test_samples:]\n",
    "    test_data = dataset_array[:num_test_samples]\n",
    "    train_data = pd.DataFrame(train_data, columns=dataset.columns)\n",
    "    test_data = pd.DataFrame(test_data, columns=dataset.columns)\n",
    "    \n",
    "    return train_data, test_data\n",
    "\n",
    "db_treino, db_teste = split_dataset(db, test_ratio=0.2)\n",
    "#db_clean_treino, db_clean_teste = split_dataset(db_clean, test_ratio=0.2)"
   ]
  },
  {
   "cell_type": "code",
   "execution_count": 5,
   "id": "f3bc98b9",
   "metadata": {
    "scrolled": true
   },
   "outputs": [
    {
     "name": "stdout",
     "output_type": "stream",
     "text": [
      "Tamanho subconjunto de treino: 17920 exemplos\n",
      "Tamanho subconjunto de teste: 4480 exemplos\n"
     ]
    },
    {
     "data": {
      "text/html": [
       "<div>\n",
       "<style scoped>\n",
       "    .dataframe tbody tr th:only-of-type {\n",
       "        vertical-align: middle;\n",
       "    }\n",
       "\n",
       "    .dataframe tbody tr th {\n",
       "        vertical-align: top;\n",
       "    }\n",
       "\n",
       "    .dataframe thead th {\n",
       "        text-align: right;\n",
       "    }\n",
       "</style>\n",
       "<table border=\"1\" class=\"dataframe\">\n",
       "  <thead>\n",
       "    <tr style=\"text-align: right;\">\n",
       "      <th></th>\n",
       "      <th>Idade</th>\n",
       "      <th>Classe Trabalhadora</th>\n",
       "      <th>Educacao</th>\n",
       "      <th>Num Educacao</th>\n",
       "      <th>Ocupacao</th>\n",
       "      <th>Ganho de Capital</th>\n",
       "      <th>Perda de Capital</th>\n",
       "      <th>Horas por Semana</th>\n",
       "      <th>Renda</th>\n",
       "    </tr>\n",
       "  </thead>\n",
       "  <tbody>\n",
       "    <tr>\n",
       "      <th>0</th>\n",
       "      <td>-1.384615</td>\n",
       "      <td>5.0</td>\n",
       "      <td>-8.666667</td>\n",
       "      <td>0.666667</td>\n",
       "      <td>-2.857143</td>\n",
       "      <td>-10.0</td>\n",
       "      <td>-10.0</td>\n",
       "      <td>-0.370370</td>\n",
       "      <td>-10.0</td>\n",
       "    </tr>\n",
       "    <tr>\n",
       "      <th>1</th>\n",
       "      <td>-0.461538</td>\n",
       "      <td>-5.0</td>\n",
       "      <td>-8.666667</td>\n",
       "      <td>0.666667</td>\n",
       "      <td>2.857143</td>\n",
       "      <td>-10.0</td>\n",
       "      <td>-10.0</td>\n",
       "      <td>-1.358025</td>\n",
       "      <td>-10.0</td>\n",
       "    </tr>\n",
       "    <tr>\n",
       "      <th>2</th>\n",
       "      <td>-7.538462</td>\n",
       "      <td>0.0</td>\n",
       "      <td>-6.000000</td>\n",
       "      <td>7.333333</td>\n",
       "      <td>-5.714286</td>\n",
       "      <td>-10.0</td>\n",
       "      <td>-10.0</td>\n",
       "      <td>-5.308642</td>\n",
       "      <td>-10.0</td>\n",
       "    </tr>\n",
       "  </tbody>\n",
       "</table>\n",
       "</div>"
      ],
      "text/plain": [
       "      Idade  Classe Trabalhadora  Educacao  Num Educacao  Ocupacao  \\\n",
       "0 -1.384615                  5.0 -8.666667      0.666667 -2.857143   \n",
       "1 -0.461538                 -5.0 -8.666667      0.666667  2.857143   \n",
       "2 -7.538462                  0.0 -6.000000      7.333333 -5.714286   \n",
       "\n",
       "   Ganho de Capital  Perda de Capital  Horas por Semana  Renda  \n",
       "0             -10.0             -10.0         -0.370370  -10.0  \n",
       "1             -10.0             -10.0         -1.358025  -10.0  \n",
       "2             -10.0             -10.0         -5.308642  -10.0  "
      ]
     },
     "metadata": {},
     "output_type": "display_data"
    },
    {
     "data": {
      "text/html": [
       "<div>\n",
       "<style scoped>\n",
       "    .dataframe tbody tr th:only-of-type {\n",
       "        vertical-align: middle;\n",
       "    }\n",
       "\n",
       "    .dataframe tbody tr th {\n",
       "        vertical-align: top;\n",
       "    }\n",
       "\n",
       "    .dataframe thead th {\n",
       "        text-align: right;\n",
       "    }\n",
       "</style>\n",
       "<table border=\"1\" class=\"dataframe\">\n",
       "  <thead>\n",
       "    <tr style=\"text-align: right;\">\n",
       "      <th></th>\n",
       "      <th>Idade</th>\n",
       "      <th>Classe Trabalhadora</th>\n",
       "      <th>Educacao</th>\n",
       "      <th>Num Educacao</th>\n",
       "      <th>Ocupacao</th>\n",
       "      <th>Ganho de Capital</th>\n",
       "      <th>Perda de Capital</th>\n",
       "      <th>Horas por Semana</th>\n",
       "      <th>Renda</th>\n",
       "    </tr>\n",
       "  </thead>\n",
       "  <tbody>\n",
       "    <tr>\n",
       "      <th>0</th>\n",
       "      <td>-5.384615</td>\n",
       "      <td>-5.0</td>\n",
       "      <td>-3.333333</td>\n",
       "      <td>2.000000</td>\n",
       "      <td>0.000000</td>\n",
       "      <td>-10.0</td>\n",
       "      <td>-10.0</td>\n",
       "      <td>2.098765</td>\n",
       "      <td>-10.0</td>\n",
       "    </tr>\n",
       "    <tr>\n",
       "      <th>1</th>\n",
       "      <td>-1.384615</td>\n",
       "      <td>-5.0</td>\n",
       "      <td>-8.666667</td>\n",
       "      <td>0.666667</td>\n",
       "      <td>-7.142857</td>\n",
       "      <td>-10.0</td>\n",
       "      <td>-10.0</td>\n",
       "      <td>1.604938</td>\n",
       "      <td>10.0</td>\n",
       "    </tr>\n",
       "    <tr>\n",
       "      <th>2</th>\n",
       "      <td>-4.769231</td>\n",
       "      <td>-5.0</td>\n",
       "      <td>-4.666667</td>\n",
       "      <td>-4.666667</td>\n",
       "      <td>1.428571</td>\n",
       "      <td>-10.0</td>\n",
       "      <td>-10.0</td>\n",
       "      <td>-0.370370</td>\n",
       "      <td>-10.0</td>\n",
       "    </tr>\n",
       "  </tbody>\n",
       "</table>\n",
       "</div>"
      ],
      "text/plain": [
       "      Idade  Classe Trabalhadora  Educacao  Num Educacao  Ocupacao  \\\n",
       "0 -5.384615                 -5.0 -3.333333      2.000000  0.000000   \n",
       "1 -1.384615                 -5.0 -8.666667      0.666667 -7.142857   \n",
       "2 -4.769231                 -5.0 -4.666667     -4.666667  1.428571   \n",
       "\n",
       "   Ganho de Capital  Perda de Capital  Horas por Semana  Renda  \n",
       "0             -10.0             -10.0          2.098765  -10.0  \n",
       "1             -10.0             -10.0          1.604938   10.0  \n",
       "2             -10.0             -10.0         -0.370370  -10.0  "
      ]
     },
     "metadata": {},
     "output_type": "display_data"
    }
   ],
   "source": [
    "print(f'Tamanho subconjunto de treino: {db_treino.shape[0]} exemplos\\nTamanho subconjunto de teste: {db_teste.shape[0]} exemplos')\n",
    "display(db_treino.head(3))\n",
    "display(db_teste.head(3))"
   ]
  },
  {
   "cell_type": "markdown",
   "id": "4db19656",
   "metadata": {},
   "source": [
    "# Métricas"
   ]
  },
  {
   "cell_type": "markdown",
   "id": "9341ef05",
   "metadata": {},
   "source": [
    "> Converter dados não numéricos em uma representação numérica é uma etapa crucial para garantir que os algoritmos possam processar e extrair insights úteis dos dados."
   ]
  },
  {
   "cell_type": "code",
   "execution_count": 61,
   "id": "b004e2c8",
   "metadata": {},
   "outputs": [],
   "source": [
    "def convert_labels_to_numeric(labels):\n",
    "    unique_labels = list(set(labels))\n",
    "    label_map = {label: i for i, label in enumerate(unique_labels)}\n",
    "    numeric_labels = [label_map[label] for label in labels]\n",
    "    return numeric_labels"
   ]
  },
  {
   "cell_type": "markdown",
   "id": "ce079076",
   "metadata": {},
   "source": [
    "> **Acurácia:** é uma medida que indica a taxa de classificações corretas em relação ao total de amostras. É uma medida geral de desempenho do modelo, indicando a proporção de previsões corretas em relação ao número total de previsões."
   ]
  },
  {
   "cell_type": "code",
   "execution_count": 62,
   "id": "9cda7ad3",
   "metadata": {},
   "outputs": [],
   "source": [
    "def calculate_accuracy(y_true, y_pred):\n",
    "    correct_predictions = 0\n",
    "    total_predictions = len(y_true)\n",
    "\n",
    "    for true_label, predicted_label in zip(y_true, y_pred):\n",
    "        if true_label == predicted_label:\n",
    "            correct_predictions += 1\n",
    "\n",
    "    accuracy = correct_predictions / total_predictions\n",
    "\n",
    "    return accuracy"
   ]
  },
  {
   "cell_type": "markdown",
   "id": "93c53b25",
   "metadata": {},
   "source": [
    "> **Precisão:** é uma medida que indica a proporção de verdadeiros positivos em relação ao total de positivos previstos (verdadeiros positivos + falsos positivos)."
   ]
  },
  {
   "cell_type": "code",
   "execution_count": 63,
   "id": "9d83526c",
   "metadata": {},
   "outputs": [],
   "source": [
    "def calculate_precision(y_true, y_pred):\n",
    "    true_positives = 0\n",
    "    false_positives = 0\n",
    "\n",
    "    for true_label, predicted_label in zip(y_true, y_pred):\n",
    "        if predicted_label == 1:\n",
    "            if true_label == predicted_label:\n",
    "                true_positives += 1\n",
    "            else:\n",
    "                false_positives += 1\n",
    "\n",
    "    if true_positives + false_positives == 0:\n",
    "        precision = 0\n",
    "    else:\n",
    "        precision = true_positives / (true_positives + false_positives)\n",
    "\n",
    "    return precision"
   ]
  },
  {
   "cell_type": "markdown",
   "id": "209dfaa8",
   "metadata": {},
   "source": [
    "> **Recall:** também conhecido como taxa de verdadeiros positivos ou sensibilidade, é uma medida que indica a proporção de verdadeiros positivos em relação ao total de positivos reais (verdadeiros positivos + falsos negativos)."
   ]
  },
  {
   "cell_type": "code",
   "execution_count": 64,
   "id": "ad6ed845",
   "metadata": {},
   "outputs": [],
   "source": [
    "def calculate_recall(y_true, y_pred):\n",
    "    true_positives = 0\n",
    "    false_negatives = 0\n",
    "\n",
    "    for true_label, predicted_label in zip(y_true, y_pred):\n",
    "        if true_label == predicted_label == 1:\n",
    "            true_positives += 1\n",
    "        elif true_label == 1 and predicted_label == 0:\n",
    "            false_negatives += 1\n",
    "\n",
    "    if true_positives + false_negatives == 0:\n",
    "        recall = 0\n",
    "    else:\n",
    "        recall = true_positives / (true_positives + false_negatives)\n",
    "\n",
    "    return recall"
   ]
  },
  {
   "cell_type": "markdown",
   "id": "4dbfa535",
   "metadata": {},
   "source": [
    "> **Matriz de confusão:** uma tabela que mostra o desempenho do modelo de classificação em relação às classes reais. Ela apresenta a contagem de verdadeiros positivos, falsos positivos, verdadeiros negativos e falsos negativos."
   ]
  },
  {
   "cell_type": "code",
   "execution_count": 81,
   "id": "e0b649f5",
   "metadata": {},
   "outputs": [],
   "source": [
    "def calculate_confusion_matrix(y_true, y_pred):\n",
    "    true_positives = 0\n",
    "    true_negatives = 0\n",
    "    false_positives = 0\n",
    "    false_negatives = 0\n",
    "\n",
    "    for true_label, predicted_label in zip(y_true, y_pred):\n",
    "        if true_label == predicted_label == 1:\n",
    "            true_positives += 1\n",
    "        elif true_label == predicted_label == 0:\n",
    "            true_negatives += 1\n",
    "        elif true_label == 0 and predicted_label == 1:\n",
    "            false_positives += 1\n",
    "        elif true_label == 1 and predicted_label == 0:\n",
    "            false_negatives += 1\n",
    "\n",
    "    confusion_df = pd.DataFrame({\n",
    "        'Previsto P': [true_positives, false_positives],\n",
    "        'Previsto N': [false_negatives, true_negatives]\n",
    "    }, index=['Real P', 'Real N'])\n",
    "\n",
    "    return confusion_df\n",
    "\n",
    "def calculate_confusion_matrix_bl(y_true, y_pred):\n",
    "    confusion = confusion_matrix(y_true, y_pred)\n",
    "    confusion_df = pd.DataFrame(\n",
    "        confusion,\n",
    "        index=['Real P', 'Real N'],\n",
    "        columns=['Previsto P', 'Previsto N']\n",
    "    )\n",
    "    return confusion_df"
   ]
  },
  {
   "cell_type": "markdown",
   "id": "d6cc8ec7",
   "metadata": {},
   "source": [
    "> As **medidas de avaliação**, como acurácia, precisão e recall, são fundamentais na análise e avaliação de modelos de classificação. Elas desempenham um papel crucial na compreensão do desempenho do modelo e na tomada de decisões relacionadas à sua utilização."
   ]
  },
  {
   "cell_type": "markdown",
   "id": "94b447f5",
   "metadata": {},
   "source": [
    "# Algoritmo Baseline"
   ]
  },
  {
   "cell_type": "markdown",
   "id": "d402cc37",
   "metadata": {},
   "source": [
    "> **Algoritmo baseline** é um método simples que serve como ponto de referência para avaliar o desempenho de modelos mais avançados. Nesse caso, foi utilizado um algoritmo que calcula a frequência de cada classe no conjunto de treinamento e, em seguida, atribui a classe majoritária a todas as instâncias do conjunto de teste."
   ]
  },
  {
   "cell_type": "code",
   "execution_count": 74,
   "id": "89e10584",
   "metadata": {},
   "outputs": [
    {
     "data": {
      "text/html": [
       "<div>\n",
       "<style scoped>\n",
       "    .dataframe tbody tr th:only-of-type {\n",
       "        vertical-align: middle;\n",
       "    }\n",
       "\n",
       "    .dataframe tbody tr th {\n",
       "        vertical-align: top;\n",
       "    }\n",
       "\n",
       "    .dataframe thead th {\n",
       "        text-align: right;\n",
       "    }\n",
       "</style>\n",
       "<table border=\"1\" class=\"dataframe\">\n",
       "  <thead>\n",
       "    <tr style=\"text-align: right;\">\n",
       "      <th></th>\n",
       "      <th>Valor</th>\n",
       "      <th>Frequência</th>\n",
       "    </tr>\n",
       "  </thead>\n",
       "  <tbody>\n",
       "    <tr>\n",
       "      <th>0</th>\n",
       "      <td>-10.0</td>\n",
       "      <td>12750</td>\n",
       "    </tr>\n",
       "    <tr>\n",
       "      <th>1</th>\n",
       "      <td>10.0</td>\n",
       "      <td>5170</td>\n",
       "    </tr>\n",
       "  </tbody>\n",
       "</table>\n",
       "</div>"
      ],
      "text/plain": [
       "   Valor  Frequência\n",
       "0  -10.0       12750\n",
       "1   10.0        5170"
      ]
     },
     "metadata": {},
     "output_type": "display_data"
    }
   ],
   "source": [
    "class_counts = db_treino['Renda'].value_counts()\n",
    "majority_class = class_counts.idxmax()\n",
    "majority_class_proportion = class_counts[majority_class] / len(db_treino)\n",
    "\n",
    "def baseline_predict():    \n",
    "    return pd.Series([majority_class] * len(db_teste), index=db_teste.index)\n",
    "\n",
    "baseline_predictions = baseline_predict()\n",
    "\n",
    "class_counts_df = pd.DataFrame({'Valor': class_counts.index, 'Frequência': class_counts.values})\n",
    "display(class_counts_df)"
   ]
  },
  {
   "cell_type": "markdown",
   "id": "4b84dcd4",
   "metadata": {},
   "source": [
    "> Como a base de dados foi padronizada com valores entre o intervalo numérico de **[-10 a +10]**, a classe mais frequente na base de dados é **-10**, ou seja, que representa justamente o valor **<=50K** assumido pelo atributo **Renda.**"
   ]
  },
  {
   "cell_type": "markdown",
   "id": "30393fe5",
   "metadata": {},
   "source": [
    "# K-NN"
   ]
  },
  {
   "cell_type": "markdown",
   "id": "7a3afd8a",
   "metadata": {},
   "source": [
    "> O algoritmo **K-NN** atribui rótulos às instâncias de teste com base nos rótulos das instâncias vizinhas mais próximas no espaço de atributos. O valor de **k** determina o **número de vizinhos** considerados."
   ]
  },
  {
   "cell_type": "code",
   "execution_count": 66,
   "id": "822069fc",
   "metadata": {},
   "outputs": [],
   "source": [
    "from sklearn.neighbors import KNeighborsClassifier\n",
    "def knn_model(train_data, test_data, k):\n",
    "    train_data = train_data.copy()\n",
    "    test_data = test_data.copy()\n",
    "\n",
    "    X_train = train_data.drop('Renda', axis=1)\n",
    "    y_train = train_data['Renda']\n",
    "    X_test = test_data.drop('Renda', axis=1)\n",
    "    y_test = test_data['Renda']\n",
    "\n",
    "    for column in X_train.columns:\n",
    "        if X_train[column].dtype != 'object':\n",
    "            X_train[column] = pd.cut(X_train[column], bins=5, labels=False)\n",
    "            X_test[column] = pd.cut(X_test[column], bins=5, labels=False)\n",
    "\n",
    "    y_train = convert_labels_to_numeric(y_train)\n",
    "    y_test = convert_labels_to_numeric(y_test)\n",
    "\n",
    "    knn = KNeighborsClassifier(n_neighbors=k)\n",
    "\n",
    "    knn.fit(X_train, y_train)\n",
    "\n",
    "    y_pred = knn.predict(X_test)\n",
    "\n",
    "    accuracy = calculate_accuracy(y_test, y_pred)\n",
    "    precision = calculate_precision(y_test, y_pred)\n",
    "    recall = calculate_recall(y_test, y_pred)\n",
    "    confusion = calculate_confusion_matrix(y_test, y_pred)\n",
    "\n",
    "    return accuracy, precision, recall, confusion"
   ]
  },
  {
   "cell_type": "code",
   "execution_count": 211,
   "id": "93f74a0c",
   "metadata": {},
   "outputs": [
    {
     "data": {
      "text/html": [
       "<div>\n",
       "<style scoped>\n",
       "    .dataframe tbody tr th:only-of-type {\n",
       "        vertical-align: middle;\n",
       "    }\n",
       "\n",
       "    .dataframe tbody tr th {\n",
       "        vertical-align: top;\n",
       "    }\n",
       "\n",
       "    .dataframe thead th {\n",
       "        text-align: right;\n",
       "    }\n",
       "</style>\n",
       "<table border=\"1\" class=\"dataframe\">\n",
       "  <thead>\n",
       "    <tr style=\"text-align: right;\">\n",
       "      <th></th>\n",
       "      <th>k</th>\n",
       "      <th>accuracy</th>\n",
       "      <th>precision</th>\n",
       "      <th>recall</th>\n",
       "    </tr>\n",
       "  </thead>\n",
       "  <tbody>\n",
       "    <tr>\n",
       "      <th>0</th>\n",
       "      <td>1</td>\n",
       "      <td>0.716518</td>\n",
       "      <td>0.811111</td>\n",
       "      <td>0.781979</td>\n",
       "    </tr>\n",
       "    <tr>\n",
       "      <th>1</th>\n",
       "      <td>5</td>\n",
       "      <td>0.759598</td>\n",
       "      <td>0.799144</td>\n",
       "      <td>0.882483</td>\n",
       "    </tr>\n",
       "    <tr>\n",
       "      <th>2</th>\n",
       "      <td>20</td>\n",
       "      <td>0.771652</td>\n",
       "      <td>0.800503</td>\n",
       "      <td>0.902647</td>\n",
       "    </tr>\n",
       "    <tr>\n",
       "      <th>3</th>\n",
       "      <td>50</td>\n",
       "      <td>0.775446</td>\n",
       "      <td>0.793131</td>\n",
       "      <td>0.924071</td>\n",
       "    </tr>\n",
       "    <tr>\n",
       "      <th>4</th>\n",
       "      <td>100</td>\n",
       "      <td>0.783259</td>\n",
       "      <td>0.792719</td>\n",
       "      <td>0.939824</td>\n",
       "    </tr>\n",
       "  </tbody>\n",
       "</table>\n",
       "</div>"
      ],
      "text/plain": [
       "     k  accuracy  precision    recall\n",
       "0    1  0.716518   0.811111  0.781979\n",
       "1    5  0.759598   0.799144  0.882483\n",
       "2   20  0.771652   0.800503  0.902647\n",
       "3   50  0.775446   0.793131  0.924071\n",
       "4  100  0.783259   0.792719  0.939824"
      ]
     },
     "metadata": {},
     "output_type": "display_data"
    },
    {
     "data": {
      "text/html": [
       "<div>\n",
       "<style scoped>\n",
       "    .dataframe tbody tr th:only-of-type {\n",
       "        vertical-align: middle;\n",
       "    }\n",
       "\n",
       "    .dataframe tbody tr th {\n",
       "        vertical-align: top;\n",
       "    }\n",
       "\n",
       "    .dataframe thead th {\n",
       "        text-align: right;\n",
       "    }\n",
       "</style>\n",
       "<table border=\"1\" class=\"dataframe\">\n",
       "  <thead>\n",
       "    <tr style=\"text-align: right;\">\n",
       "      <th></th>\n",
       "      <th>Previsto P</th>\n",
       "      <th>Previsto N</th>\n",
       "    </tr>\n",
       "  </thead>\n",
       "  <tbody>\n",
       "    <tr>\n",
       "      <th>Real P</th>\n",
       "      <td>526</td>\n",
       "      <td>780</td>\n",
       "    </tr>\n",
       "    <tr>\n",
       "      <th>Real N</th>\n",
       "      <td>191</td>\n",
       "      <td>2983</td>\n",
       "    </tr>\n",
       "  </tbody>\n",
       "</table>\n",
       "</div>"
      ],
      "text/plain": [
       "        Previsto P  Previsto N\n",
       "Real P         526         780\n",
       "Real N         191        2983"
      ]
     },
     "metadata": {},
     "output_type": "display_data"
    }
   ],
   "source": [
    "def metricas_knn():\n",
    "    k_values = [1, 5, 20, 50, 100]\n",
    "    results = []\n",
    "\n",
    "    for k in k_values:\n",
    "        accuracy, precision, recall, confusion = knn_model(db_treino, db_teste, k)\n",
    "        results.append([k, accuracy, precision, recall])\n",
    "\n",
    "    columns = ['k', 'accuracy', 'precision', 'recall']\n",
    "    metricas_res = pd.DataFrame(results, columns=columns)\n",
    "    display(metricas_res)\n",
    "    display(confusion)\n",
    "    \n",
    "    return metricas_res, confusion\n",
    "    \n",
    "metricas_knn_res, confusion_knn = metricas_knn()"
   ]
  },
  {
   "cell_type": "markdown",
   "id": "894412f9",
   "metadata": {},
   "source": [
    "> É possível verificar médidas do desempenho do algoritmo K-NN com diversas variações de **K**, porém um valor muito alto, ou muito baixo para K, pode resultar em perda de eficiência do modelo.\n",
    "> \n",
    "> Conforme k aumenta, há uma tendência de melhoria nas métricas de avaliação, indicando um melhor desempenho do modelo na classificação correta das amostras. No entanto, é importante considerar outras informações do contexto e as necessidades específicas do problema ao escolher o valor ideal de k para o modelo.\n",
    ">\n",
    "> Portanto, pode-se concluir que o algoritmo k-NN, em geral, apresenta um desempenho satisfatório, melhorando à medida que k aumenta. O modelo demonstra uma boa capacidade de identificar corretamente as amostras verdadeiras positivas, conforme o recall aumenta. No entanto, é importante observar que o número de falsos positivos pode ser relativamente alto, resultando em uma precisão variável."
   ]
  },
  {
   "cell_type": "markdown",
   "id": "8ca238ec",
   "metadata": {},
   "source": [
    "# Árvore C4.5"
   ]
  },
  {
   "cell_type": "markdown",
   "id": "52ab1e11",
   "metadata": {},
   "source": [
    "> O algoritmo **C4.5** é um algoritmo de árvore de decisão que constrói uma árvore de decisão onde cada nó interno representa um teste em um atributo e cada ramo representa um resultado desse teste. \n",
    "> \n",
    "> O **C4.5** utiliza o ganho de informação para determinar a melhor divisão dos dados em cada nó da árvore."
   ]
  },
  {
   "cell_type": "code",
   "execution_count": 111,
   "id": "8cd2eff2",
   "metadata": {},
   "outputs": [],
   "source": [
    "from sklearn.tree import DecisionTreeClassifier\n",
    "def arvorec4_5(train_data, test_data, criterio):\n",
    "    train_data = train_data.copy()\n",
    "    test_data = test_data.copy()\n",
    "\n",
    "    X_train = train_data.drop('Renda', axis=1)\n",
    "    y_train = train_data['Renda']\n",
    "    X_test = test_data.drop('Renda', axis=1)\n",
    "    y_test = test_data['Renda']\n",
    "\n",
    "    for column in X_train.columns:\n",
    "        if X_train[column].dtype != 'object':\n",
    "            X_train[column] = pd.cut(X_train[column], bins=5, labels=False)\n",
    "            X_test[column] = pd.cut(X_test[column], bins=5, labels=False)\n",
    "\n",
    "    y_train = convert_labels_to_numeric(y_train)\n",
    "    y_test = convert_labels_to_numeric(y_test)\n",
    "\n",
    "    c4_5 = DecisionTreeClassifier(criterion=criterio)\n",
    "    c4_5.fit(X_train, y_train)\n",
    "\n",
    "    y_pred = c4_5.predict(X_test)\n",
    "\n",
    "    accuracy = calculate_accuracy(y_test, y_pred)\n",
    "    precision = calculate_precision(y_test, y_pred)\n",
    "    recall = calculate_recall(y_test, y_pred)\n",
    "    confusion = calculate_confusion_matrix(y_test, y_pred)\n",
    "\n",
    "    return accuracy, precision, recall, confusion"
   ]
  },
  {
   "cell_type": "code",
   "execution_count": 215,
   "id": "969fdfe7",
   "metadata": {
    "scrolled": true
   },
   "outputs": [
    {
     "data": {
      "text/html": [
       "<div>\n",
       "<style scoped>\n",
       "    .dataframe tbody tr th:only-of-type {\n",
       "        vertical-align: middle;\n",
       "    }\n",
       "\n",
       "    .dataframe tbody tr th {\n",
       "        vertical-align: top;\n",
       "    }\n",
       "\n",
       "    .dataframe thead th {\n",
       "        text-align: right;\n",
       "    }\n",
       "</style>\n",
       "<table border=\"1\" class=\"dataframe\">\n",
       "  <thead>\n",
       "    <tr style=\"text-align: right;\">\n",
       "      <th></th>\n",
       "      <th>criterio</th>\n",
       "      <th>accuracy</th>\n",
       "      <th>precision</th>\n",
       "      <th>recall</th>\n",
       "    </tr>\n",
       "  </thead>\n",
       "  <tbody>\n",
       "    <tr>\n",
       "      <th>0</th>\n",
       "      <td>entropy</td>\n",
       "      <td>0.764509</td>\n",
       "      <td>0.806302</td>\n",
       "      <td>0.878702</td>\n",
       "    </tr>\n",
       "    <tr>\n",
       "      <th>1</th>\n",
       "      <td>gini</td>\n",
       "      <td>0.764286</td>\n",
       "      <td>0.806246</td>\n",
       "      <td>0.878387</td>\n",
       "    </tr>\n",
       "    <tr>\n",
       "      <th>2</th>\n",
       "      <td>friedman_mse</td>\n",
       "      <td>0.765179</td>\n",
       "      <td>0.806647</td>\n",
       "      <td>0.879332</td>\n",
       "    </tr>\n",
       "    <tr>\n",
       "      <th>3</th>\n",
       "      <td>mse</td>\n",
       "      <td>0.764955</td>\n",
       "      <td>0.806769</td>\n",
       "      <td>0.878702</td>\n",
       "    </tr>\n",
       "  </tbody>\n",
       "</table>\n",
       "</div>"
      ],
      "text/plain": [
       "       criterio  accuracy  precision    recall\n",
       "0       entropy  0.764509   0.806302  0.878702\n",
       "1          gini  0.764286   0.806246  0.878387\n",
       "2  friedman_mse  0.765179   0.806647  0.879332\n",
       "3           mse  0.764955   0.806769  0.878702"
      ]
     },
     "metadata": {},
     "output_type": "display_data"
    },
    {
     "data": {
      "text/html": [
       "<div>\n",
       "<style scoped>\n",
       "    .dataframe tbody tr th:only-of-type {\n",
       "        vertical-align: middle;\n",
       "    }\n",
       "\n",
       "    .dataframe tbody tr th {\n",
       "        vertical-align: top;\n",
       "    }\n",
       "\n",
       "    .dataframe thead th {\n",
       "        text-align: right;\n",
       "    }\n",
       "</style>\n",
       "<table border=\"1\" class=\"dataframe\">\n",
       "  <thead>\n",
       "    <tr style=\"text-align: right;\">\n",
       "      <th></th>\n",
       "      <th>Previsto P</th>\n",
       "      <th>Previsto N</th>\n",
       "    </tr>\n",
       "  </thead>\n",
       "  <tbody>\n",
       "    <tr>\n",
       "      <th>Real P</th>\n",
       "      <td>638</td>\n",
       "      <td>668</td>\n",
       "    </tr>\n",
       "    <tr>\n",
       "      <th>Real N</th>\n",
       "      <td>385</td>\n",
       "      <td>2789</td>\n",
       "    </tr>\n",
       "  </tbody>\n",
       "</table>\n",
       "</div>"
      ],
      "text/plain": [
       "        Previsto P  Previsto N\n",
       "Real P         638         668\n",
       "Real N         385        2789"
      ]
     },
     "metadata": {},
     "output_type": "display_data"
    }
   ],
   "source": [
    "def metricas_arvore():\n",
    "    results = []\n",
    "    metricas = ['entropy', 'gini', 'friedman_mse', 'mse']\n",
    "\n",
    "    for metrica in metricas:\n",
    "        accuracy, precision, recall, confusion = arvorec4_5(db_treino, db_teste, 'entropy')\n",
    "        results.append([metrica, accuracy, precision, recall])\n",
    "\n",
    "    columns = ['criterio', 'accuracy', 'precision', 'recall']\n",
    "\n",
    "    metricas_res = pd.DataFrame(results, columns=columns)\n",
    "    display(metricas_res)\n",
    "    display(confusion)\n",
    "    \n",
    "    return metricas_res, confusion\n",
    "\n",
    "metricas_arvore_res, confusion_arvore = metricas_arvore()"
   ]
  },
  {
   "cell_type": "markdown",
   "id": "7718448e",
   "metadata": {},
   "source": [
    "> Portanto, pode-se concluir que o modelo de Árvore de Decisão, independentemente do critério de divisão utilizado, apresenta uma acurácia razoável e um recall alto para as amostras positivas. No entanto, é importante destacar que a precisão do modelo é relativamente alta, indicando que ele possui uma baixa taxa de falsos positivos."
   ]
  },
  {
   "cell_type": "markdown",
   "id": "33941d57",
   "metadata": {},
   "source": [
    "# MLP"
   ]
  },
  {
   "cell_type": "markdown",
   "id": "b8c33626",
   "metadata": {},
   "source": [
    "> **MLP**  é uma arquitetura de rede neural artificial composta por múltiplas camadas de neurônios. Cada neurônio em uma camada está conectado a todos os neurônios nas camadas adjacentes. \n",
    "> \n",
    "> O **MLP** é treinado usando o algoritmo de backpropagation, que ajusta os pesos das conexões para minimizar a diferença entre as saídas previstas e os valores de destino."
   ]
  },
  {
   "cell_type": "code",
   "execution_count": 123,
   "id": "bb9fa4d7",
   "metadata": {},
   "outputs": [],
   "source": [
    "import warnings\n",
    "from sklearn.exceptions import ConvergenceWarning\n",
    "from sklearn.neural_network import MLPClassifier\n",
    "\n",
    "def mlp_model(train_data, test_data, hidden_layer_sizes, random_state=42):\n",
    "    train_data = train_data.copy()\n",
    "    test_data = test_data.copy()\n",
    "\n",
    "    X_train = train_data.drop('Renda', axis=1)\n",
    "    y_train = train_data['Renda']\n",
    "    X_test = test_data.drop('Renda', axis=1)\n",
    "    y_test = test_data['Renda']\n",
    "\n",
    "    with warnings.catch_warnings():\n",
    "        warnings.filterwarnings(\"ignore\", category=ConvergenceWarning)\n",
    "        \n",
    "        mlp = MLPClassifier(hidden_layer_sizes=hidden_layer_sizes, max_iter=200, random_state=random_state)\n",
    "        mlp.fit(X_train, y_train)\n",
    "\n",
    "        y_pred = mlp.predict(X_test)\n",
    "\n",
    "    accuracy = accuracy_score(y_test, y_pred)\n",
    "    precision = precision_score(y_test, y_pred, average='weighted', zero_division=1)\n",
    "    recall = recall_score(y_test, y_pred, average='weighted', zero_division=1)\n",
    "    confusion = calculate_confusion_matrix(y_test, y_pred)\n",
    "    \n",
    "    return accuracy, precision, recall, confusion"
   ]
  },
  {
   "cell_type": "code",
   "execution_count": 218,
   "id": "4d7ffd5b",
   "metadata": {},
   "outputs": [
    {
     "data": {
      "text/html": [
       "<div>\n",
       "<style scoped>\n",
       "    .dataframe tbody tr th:only-of-type {\n",
       "        vertical-align: middle;\n",
       "    }\n",
       "\n",
       "    .dataframe tbody tr th {\n",
       "        vertical-align: top;\n",
       "    }\n",
       "\n",
       "    .dataframe thead th {\n",
       "        text-align: right;\n",
       "    }\n",
       "</style>\n",
       "<table border=\"1\" class=\"dataframe\">\n",
       "  <thead>\n",
       "    <tr style=\"text-align: right;\">\n",
       "      <th></th>\n",
       "      <th>hidden_layers</th>\n",
       "      <th>accuracy</th>\n",
       "      <th>precision</th>\n",
       "      <th>recall</th>\n",
       "    </tr>\n",
       "  </thead>\n",
       "  <tbody>\n",
       "    <tr>\n",
       "      <th>0</th>\n",
       "      <td>(5,)</td>\n",
       "      <td>0.789062</td>\n",
       "      <td>0.781461</td>\n",
       "      <td>0.789062</td>\n",
       "    </tr>\n",
       "    <tr>\n",
       "      <th>1</th>\n",
       "      <td>(10,)</td>\n",
       "      <td>0.793304</td>\n",
       "      <td>0.784387</td>\n",
       "      <td>0.793304</td>\n",
       "    </tr>\n",
       "    <tr>\n",
       "      <th>2</th>\n",
       "      <td>(25,)</td>\n",
       "      <td>0.791071</td>\n",
       "      <td>0.782555</td>\n",
       "      <td>0.791071</td>\n",
       "    </tr>\n",
       "    <tr>\n",
       "      <th>3</th>\n",
       "      <td>(50,)</td>\n",
       "      <td>0.792857</td>\n",
       "      <td>0.786374</td>\n",
       "      <td>0.792857</td>\n",
       "    </tr>\n",
       "  </tbody>\n",
       "</table>\n",
       "</div>"
      ],
      "text/plain": [
       "  hidden_layers  accuracy  precision    recall\n",
       "0          (5,)  0.789062   0.781461  0.789062\n",
       "1         (10,)  0.793304   0.784387  0.793304\n",
       "2         (25,)  0.791071   0.782555  0.791071\n",
       "3         (50,)  0.792857   0.786374  0.792857"
      ]
     },
     "metadata": {},
     "output_type": "display_data"
    },
    {
     "data": {
      "text/html": [
       "<div>\n",
       "<style scoped>\n",
       "    .dataframe tbody tr th:only-of-type {\n",
       "        vertical-align: middle;\n",
       "    }\n",
       "\n",
       "    .dataframe tbody tr th {\n",
       "        vertical-align: top;\n",
       "    }\n",
       "\n",
       "    .dataframe thead th {\n",
       "        text-align: right;\n",
       "    }\n",
       "</style>\n",
       "<table border=\"1\" class=\"dataframe\">\n",
       "  <thead>\n",
       "    <tr style=\"text-align: right;\">\n",
       "      <th></th>\n",
       "      <th>Previsto P</th>\n",
       "      <th>Previsto N</th>\n",
       "    </tr>\n",
       "  </thead>\n",
       "  <tbody>\n",
       "    <tr>\n",
       "      <th>Real P</th>\n",
       "      <td>2983</td>\n",
       "      <td>191</td>\n",
       "    </tr>\n",
       "    <tr>\n",
       "      <th>Real N</th>\n",
       "      <td>737</td>\n",
       "      <td>569</td>\n",
       "    </tr>\n",
       "  </tbody>\n",
       "</table>\n",
       "</div>"
      ],
      "text/plain": [
       "        Previsto P  Previsto N\n",
       "Real P        2983         191\n",
       "Real N         737         569"
      ]
     },
     "metadata": {},
     "output_type": "display_data"
    }
   ],
   "source": [
    "def metricas_mlp():\n",
    "    results = []\n",
    "    hidden_layer_sizes = [(5,), (10,), (25,), (50,)]\n",
    "    random_state = 42\n",
    "\n",
    "    for hidden_layers in hidden_layer_sizes:\n",
    "        accuracy, precision, recall, confusion = mlp_model(db_treino, db_teste, hidden_layer_sizes=hidden_layers, random_state=random_state)\n",
    "        results.append([hidden_layers, accuracy, precision, recall])\n",
    "\n",
    "    columns = ['hidden_layers', 'accuracy', 'precision', 'recall']\n",
    "    metricas_res = pd.DataFrame(results, columns=columns)\n",
    "    display(metricas_res)\n",
    "    display(confusion)\n",
    "    \n",
    "    return metricas_res, confusion\n",
    "    \n",
    "metricas_mlp_res, confusion_mlp =metricas_mlp()"
   ]
  },
  {
   "cell_type": "markdown",
   "id": "38cb1117",
   "metadata": {},
   "source": [
    "> Portanto, pode-se concluir que o modelo MLP apresenta um desempenho consistente, com valores de acurácia, precisão e recall próximos entre as diferentes configurações de camadas ocultas. O modelo é capaz de identificar corretamente uma porcentagem elevada de amostras verdadeiras positivas. No entanto, é importante observar que o número de amostras verdadeiras negativas previstas corretamente é menor, o que pode resultar em uma taxa relativamente alta de falsos positivos."
   ]
  },
  {
   "cell_type": "markdown",
   "id": "de078a17",
   "metadata": {},
   "source": [
    "# Resultados Baseline"
   ]
  },
  {
   "cell_type": "markdown",
   "id": "067051a5",
   "metadata": {},
   "source": [
    "> Como citado anteriormente, as métricas utilizadas para medir o desempenho do modelo foram: acurácia, precisão, recall e matriz de confusão, a seguir os métodos implementados para avaliar o algoritmo de **baseline.**"
   ]
  },
  {
   "cell_type": "code",
   "execution_count": 107,
   "id": "b5c22fac",
   "metadata": {},
   "outputs": [],
   "source": [
    "def calculate_metrics_bl():\n",
    "    predictions = baseline_predict()\n",
    "    accuracy = calculate_accuracy_bl(db_teste['Renda'], predictions)\n",
    "    precision = calculate_precision_bl(db_teste['Renda'], predictions, pos_label=-10.0)\n",
    "    recall = calculate_recall_bl(db_teste['Renda'], predictions, pos_label=-10.0)\n",
    "    confusion = calculate_confusion_matrix_bl(db_teste['Renda'], predictions)\n",
    "    return accuracy, precision, recall, confusion\n",
    "\n",
    "def calculate_accuracy_bl(y_true, y_pred):\n",
    "    correct_predictions = sum(1 for true, pred in zip(y_true, y_pred) if true == pred)\n",
    "    total_predictions = len(y_true)\n",
    "    accuracy = correct_predictions / total_predictions\n",
    "    return accuracy\n",
    "\n",
    "\n",
    "def calculate_precision_bl(y_true, y_pred, pos_label):\n",
    "    true_positives = sum(1 for true, pred in zip(y_true, y_pred) if true == pred == pos_label)\n",
    "    predicted_positives = sum(1 for pred in y_pred if pred == pos_label)\n",
    "    precision = true_positives / predicted_positives if predicted_positives > 0 else 0.0\n",
    "    return precision\n",
    "\n",
    "\n",
    "def calculate_recall_bl(y_true, y_pred, pos_label):\n",
    "    true_positives = sum(1 for true, pred in zip(y_true, y_pred) if true == pred == pos_label)\n",
    "    actual_positives = sum(1 for true in y_true if true == pos_label)\n",
    "    recall = true_positives / actual_positives if actual_positives > 0 else 0.0\n",
    "    return recall\n",
    "\n",
    "\n",
    "def calculate_confusion_matrix_bl(y_true, y_pred):\n",
    "    confusion = confusion_matrix(y_true, y_pred)\n",
    "    confusion_df = pd.DataFrame(\n",
    "        confusion,\n",
    "        index=['Real P', 'Real N'],\n",
    "        columns=['Previsto P', 'Previsto N']\n",
    "    )\n",
    "    return confusion_df"
   ]
  },
  {
   "cell_type": "code",
   "execution_count": 160,
   "id": "70adda5b",
   "metadata": {},
   "outputs": [
    {
     "data": {
      "text/html": [
       "<div>\n",
       "<style scoped>\n",
       "    .dataframe tbody tr th:only-of-type {\n",
       "        vertical-align: middle;\n",
       "    }\n",
       "\n",
       "    .dataframe tbody tr th {\n",
       "        vertical-align: top;\n",
       "    }\n",
       "\n",
       "    .dataframe thead th {\n",
       "        text-align: right;\n",
       "    }\n",
       "</style>\n",
       "<table border=\"1\" class=\"dataframe\">\n",
       "  <thead>\n",
       "    <tr style=\"text-align: right;\">\n",
       "      <th></th>\n",
       "      <th>accuracy</th>\n",
       "      <th>precision</th>\n",
       "      <th>recall</th>\n",
       "    </tr>\n",
       "  </thead>\n",
       "  <tbody>\n",
       "    <tr>\n",
       "      <th>0</th>\n",
       "      <td>0.708482</td>\n",
       "      <td>0.708482</td>\n",
       "      <td>1.0</td>\n",
       "    </tr>\n",
       "  </tbody>\n",
       "</table>\n",
       "</div>"
      ],
      "text/plain": [
       "   accuracy  precision  recall\n",
       "0  0.708482   0.708482     1.0"
      ]
     },
     "metadata": {},
     "output_type": "display_data"
    },
    {
     "data": {
      "text/html": [
       "<div>\n",
       "<style scoped>\n",
       "    .dataframe tbody tr th:only-of-type {\n",
       "        vertical-align: middle;\n",
       "    }\n",
       "\n",
       "    .dataframe tbody tr th {\n",
       "        vertical-align: top;\n",
       "    }\n",
       "\n",
       "    .dataframe thead th {\n",
       "        text-align: right;\n",
       "    }\n",
       "</style>\n",
       "<table border=\"1\" class=\"dataframe\">\n",
       "  <thead>\n",
       "    <tr style=\"text-align: right;\">\n",
       "      <th></th>\n",
       "      <th>Previsto P</th>\n",
       "      <th>Previsto N</th>\n",
       "    </tr>\n",
       "  </thead>\n",
       "  <tbody>\n",
       "    <tr>\n",
       "      <th>Real P</th>\n",
       "      <td>3174</td>\n",
       "      <td>0</td>\n",
       "    </tr>\n",
       "    <tr>\n",
       "      <th>Real N</th>\n",
       "      <td>1306</td>\n",
       "      <td>0</td>\n",
       "    </tr>\n",
       "  </tbody>\n",
       "</table>\n",
       "</div>"
      ],
      "text/plain": [
       "        Previsto P  Previsto N\n",
       "Real P        3174           0\n",
       "Real N        1306           0"
      ]
     },
     "metadata": {},
     "output_type": "display_data"
    }
   ],
   "source": [
    "def metricas_baseline():\n",
    "    accuracy, precision, recall, confusion = calculate_metrics_baseline_bl()\n",
    "\n",
    "    metrics_table = pd.DataFrame({'accuracy': [accuracy], 'precision': [precision], 'recall': [recall]})\n",
    "    display(metrics_table)\n",
    "    display(confusion)\n",
    "    \n",
    "    return metrics_table, confusion\n",
    "\n",
    "metrics_baseline, confusion_baseline = metricas_baseline()"
   ]
  },
  {
   "cell_type": "markdown",
   "id": "8ada05c4",
   "metadata": {},
   "source": [
    "> Portanto, pode-ser concluir que o algoritmo baseline obteve uma acurácia razoável, mas com um desequilíbrio significativo na classificação das amostras negativas. O modelo apresentou um alto recall para as amostras positivas, mas uma precisão baixa, o que indica uma taxa elevada de falsos positivos. Isso sugere que o modelo baseline possui limitações e não é capaz de realizar uma classificação adequada das amostras negativas."
   ]
  },
  {
   "cell_type": "markdown",
   "id": "c1e8a2ed",
   "metadata": {},
   "source": [
    "# Resultados 3 algoritmos"
   ]
  },
  {
   "cell_type": "code",
   "execution_count": 220,
   "id": "8db33d2b",
   "metadata": {},
   "outputs": [
    {
     "data": {
      "text/html": [
       "<div>\n",
       "<style scoped>\n",
       "    .dataframe tbody tr th:only-of-type {\n",
       "        vertical-align: middle;\n",
       "    }\n",
       "\n",
       "    .dataframe tbody tr th {\n",
       "        vertical-align: top;\n",
       "    }\n",
       "\n",
       "    .dataframe thead th {\n",
       "        text-align: right;\n",
       "    }\n",
       "</style>\n",
       "<table border=\"1\" class=\"dataframe\">\n",
       "  <thead>\n",
       "    <tr style=\"text-align: right;\">\n",
       "      <th></th>\n",
       "      <th>accuracy</th>\n",
       "      <th>precision</th>\n",
       "      <th>recall</th>\n",
       "    </tr>\n",
       "  </thead>\n",
       "  <tbody>\n",
       "    <tr>\n",
       "      <th>0</th>\n",
       "      <td>0.708482</td>\n",
       "      <td>0.708482</td>\n",
       "      <td>1.0</td>\n",
       "    </tr>\n",
       "  </tbody>\n",
       "</table>\n",
       "</div>"
      ],
      "text/plain": [
       "   accuracy  precision  recall\n",
       "0  0.708482   0.708482     1.0"
      ]
     },
     "metadata": {},
     "output_type": "display_data"
    },
    {
     "data": {
      "text/html": [
       "<div>\n",
       "<style scoped>\n",
       "    .dataframe tbody tr th:only-of-type {\n",
       "        vertical-align: middle;\n",
       "    }\n",
       "\n",
       "    .dataframe tbody tr th {\n",
       "        vertical-align: top;\n",
       "    }\n",
       "\n",
       "    .dataframe thead th {\n",
       "        text-align: right;\n",
       "    }\n",
       "</style>\n",
       "<table border=\"1\" class=\"dataframe\">\n",
       "  <thead>\n",
       "    <tr style=\"text-align: right;\">\n",
       "      <th></th>\n",
       "      <th>Previsto P</th>\n",
       "      <th>Previsto N</th>\n",
       "    </tr>\n",
       "  </thead>\n",
       "  <tbody>\n",
       "    <tr>\n",
       "      <th>Real P</th>\n",
       "      <td>3174</td>\n",
       "      <td>0</td>\n",
       "    </tr>\n",
       "    <tr>\n",
       "      <th>Real N</th>\n",
       "      <td>1306</td>\n",
       "      <td>0</td>\n",
       "    </tr>\n",
       "  </tbody>\n",
       "</table>\n",
       "</div>"
      ],
      "text/plain": [
       "        Previsto P  Previsto N\n",
       "Real P        3174           0\n",
       "Real N        1306           0"
      ]
     },
     "metadata": {},
     "output_type": "display_data"
    }
   ],
   "source": [
    "metrics_baseline, confusion_baseline = metricas_baseline()"
   ]
  },
  {
   "cell_type": "code",
   "execution_count": 214,
   "id": "1fdb3148",
   "metadata": {},
   "outputs": [
    {
     "data": {
      "text/html": [
       "<div>\n",
       "<style scoped>\n",
       "    .dataframe tbody tr th:only-of-type {\n",
       "        vertical-align: middle;\n",
       "    }\n",
       "\n",
       "    .dataframe tbody tr th {\n",
       "        vertical-align: top;\n",
       "    }\n",
       "\n",
       "    .dataframe thead th {\n",
       "        text-align: right;\n",
       "    }\n",
       "</style>\n",
       "<table border=\"1\" class=\"dataframe\">\n",
       "  <thead>\n",
       "    <tr style=\"text-align: right;\">\n",
       "      <th></th>\n",
       "      <th>k</th>\n",
       "      <th>accuracy</th>\n",
       "      <th>precision</th>\n",
       "      <th>recall</th>\n",
       "    </tr>\n",
       "  </thead>\n",
       "  <tbody>\n",
       "    <tr>\n",
       "      <th>0</th>\n",
       "      <td>1</td>\n",
       "      <td>0.716518</td>\n",
       "      <td>0.811111</td>\n",
       "      <td>0.781979</td>\n",
       "    </tr>\n",
       "    <tr>\n",
       "      <th>1</th>\n",
       "      <td>5</td>\n",
       "      <td>0.759598</td>\n",
       "      <td>0.799144</td>\n",
       "      <td>0.882483</td>\n",
       "    </tr>\n",
       "    <tr>\n",
       "      <th>2</th>\n",
       "      <td>20</td>\n",
       "      <td>0.771652</td>\n",
       "      <td>0.800503</td>\n",
       "      <td>0.902647</td>\n",
       "    </tr>\n",
       "    <tr>\n",
       "      <th>3</th>\n",
       "      <td>50</td>\n",
       "      <td>0.775446</td>\n",
       "      <td>0.793131</td>\n",
       "      <td>0.924071</td>\n",
       "    </tr>\n",
       "    <tr>\n",
       "      <th>4</th>\n",
       "      <td>100</td>\n",
       "      <td>0.783259</td>\n",
       "      <td>0.792719</td>\n",
       "      <td>0.939824</td>\n",
       "    </tr>\n",
       "  </tbody>\n",
       "</table>\n",
       "</div>"
      ],
      "text/plain": [
       "     k  accuracy  precision    recall\n",
       "0    1  0.716518   0.811111  0.781979\n",
       "1    5  0.759598   0.799144  0.882483\n",
       "2   20  0.771652   0.800503  0.902647\n",
       "3   50  0.775446   0.793131  0.924071\n",
       "4  100  0.783259   0.792719  0.939824"
      ]
     },
     "metadata": {},
     "output_type": "display_data"
    },
    {
     "data": {
      "text/html": [
       "<div>\n",
       "<style scoped>\n",
       "    .dataframe tbody tr th:only-of-type {\n",
       "        vertical-align: middle;\n",
       "    }\n",
       "\n",
       "    .dataframe tbody tr th {\n",
       "        vertical-align: top;\n",
       "    }\n",
       "\n",
       "    .dataframe thead th {\n",
       "        text-align: right;\n",
       "    }\n",
       "</style>\n",
       "<table border=\"1\" class=\"dataframe\">\n",
       "  <thead>\n",
       "    <tr style=\"text-align: right;\">\n",
       "      <th></th>\n",
       "      <th>Previsto P</th>\n",
       "      <th>Previsto N</th>\n",
       "    </tr>\n",
       "  </thead>\n",
       "  <tbody>\n",
       "    <tr>\n",
       "      <th>Real P</th>\n",
       "      <td>526</td>\n",
       "      <td>780</td>\n",
       "    </tr>\n",
       "    <tr>\n",
       "      <th>Real N</th>\n",
       "      <td>191</td>\n",
       "      <td>2983</td>\n",
       "    </tr>\n",
       "  </tbody>\n",
       "</table>\n",
       "</div>"
      ],
      "text/plain": [
       "        Previsto P  Previsto N\n",
       "Real P         526         780\n",
       "Real N         191        2983"
      ]
     },
     "metadata": {},
     "output_type": "display_data"
    }
   ],
   "source": [
    "metricas_knn_res, confusion_knn = metricas_knn()"
   ]
  },
  {
   "cell_type": "code",
   "execution_count": 216,
   "id": "1512f255",
   "metadata": {},
   "outputs": [
    {
     "data": {
      "text/html": [
       "<div>\n",
       "<style scoped>\n",
       "    .dataframe tbody tr th:only-of-type {\n",
       "        vertical-align: middle;\n",
       "    }\n",
       "\n",
       "    .dataframe tbody tr th {\n",
       "        vertical-align: top;\n",
       "    }\n",
       "\n",
       "    .dataframe thead th {\n",
       "        text-align: right;\n",
       "    }\n",
       "</style>\n",
       "<table border=\"1\" class=\"dataframe\">\n",
       "  <thead>\n",
       "    <tr style=\"text-align: right;\">\n",
       "      <th></th>\n",
       "      <th>criterio</th>\n",
       "      <th>accuracy</th>\n",
       "      <th>precision</th>\n",
       "      <th>recall</th>\n",
       "    </tr>\n",
       "  </thead>\n",
       "  <tbody>\n",
       "    <tr>\n",
       "      <th>0</th>\n",
       "      <td>entropy</td>\n",
       "      <td>0.764509</td>\n",
       "      <td>0.806302</td>\n",
       "      <td>0.878702</td>\n",
       "    </tr>\n",
       "    <tr>\n",
       "      <th>1</th>\n",
       "      <td>gini</td>\n",
       "      <td>0.764955</td>\n",
       "      <td>0.806592</td>\n",
       "      <td>0.879017</td>\n",
       "    </tr>\n",
       "    <tr>\n",
       "      <th>2</th>\n",
       "      <td>friedman_mse</td>\n",
       "      <td>0.763839</td>\n",
       "      <td>0.805957</td>\n",
       "      <td>0.878072</td>\n",
       "    </tr>\n",
       "    <tr>\n",
       "      <th>3</th>\n",
       "      <td>mse</td>\n",
       "      <td>0.764732</td>\n",
       "      <td>0.806358</td>\n",
       "      <td>0.879017</td>\n",
       "    </tr>\n",
       "  </tbody>\n",
       "</table>\n",
       "</div>"
      ],
      "text/plain": [
       "       criterio  accuracy  precision    recall\n",
       "0       entropy  0.764509   0.806302  0.878702\n",
       "1          gini  0.764955   0.806592  0.879017\n",
       "2  friedman_mse  0.763839   0.805957  0.878072\n",
       "3           mse  0.764732   0.806358  0.879017"
      ]
     },
     "metadata": {},
     "output_type": "display_data"
    },
    {
     "data": {
      "text/html": [
       "<div>\n",
       "<style scoped>\n",
       "    .dataframe tbody tr th:only-of-type {\n",
       "        vertical-align: middle;\n",
       "    }\n",
       "\n",
       "    .dataframe tbody tr th {\n",
       "        vertical-align: top;\n",
       "    }\n",
       "\n",
       "    .dataframe thead th {\n",
       "        text-align: right;\n",
       "    }\n",
       "</style>\n",
       "<table border=\"1\" class=\"dataframe\">\n",
       "  <thead>\n",
       "    <tr style=\"text-align: right;\">\n",
       "      <th></th>\n",
       "      <th>Previsto P</th>\n",
       "      <th>Previsto N</th>\n",
       "    </tr>\n",
       "  </thead>\n",
       "  <tbody>\n",
       "    <tr>\n",
       "      <th>Real P</th>\n",
       "      <td>636</td>\n",
       "      <td>670</td>\n",
       "    </tr>\n",
       "    <tr>\n",
       "      <th>Real N</th>\n",
       "      <td>384</td>\n",
       "      <td>2790</td>\n",
       "    </tr>\n",
       "  </tbody>\n",
       "</table>\n",
       "</div>"
      ],
      "text/plain": [
       "        Previsto P  Previsto N\n",
       "Real P         636         670\n",
       "Real N         384        2790"
      ]
     },
     "metadata": {},
     "output_type": "display_data"
    }
   ],
   "source": [
    "metricas_arvore_res, confusion_arvore = metricas_arvore()"
   ]
  },
  {
   "cell_type": "code",
   "execution_count": 219,
   "id": "9b528e35",
   "metadata": {
    "scrolled": false
   },
   "outputs": [
    {
     "data": {
      "text/html": [
       "<div>\n",
       "<style scoped>\n",
       "    .dataframe tbody tr th:only-of-type {\n",
       "        vertical-align: middle;\n",
       "    }\n",
       "\n",
       "    .dataframe tbody tr th {\n",
       "        vertical-align: top;\n",
       "    }\n",
       "\n",
       "    .dataframe thead th {\n",
       "        text-align: right;\n",
       "    }\n",
       "</style>\n",
       "<table border=\"1\" class=\"dataframe\">\n",
       "  <thead>\n",
       "    <tr style=\"text-align: right;\">\n",
       "      <th></th>\n",
       "      <th>hidden_layers</th>\n",
       "      <th>accuracy</th>\n",
       "      <th>precision</th>\n",
       "      <th>recall</th>\n",
       "    </tr>\n",
       "  </thead>\n",
       "  <tbody>\n",
       "    <tr>\n",
       "      <th>0</th>\n",
       "      <td>(5,)</td>\n",
       "      <td>0.789062</td>\n",
       "      <td>0.781461</td>\n",
       "      <td>0.789062</td>\n",
       "    </tr>\n",
       "    <tr>\n",
       "      <th>1</th>\n",
       "      <td>(10,)</td>\n",
       "      <td>0.793304</td>\n",
       "      <td>0.784387</td>\n",
       "      <td>0.793304</td>\n",
       "    </tr>\n",
       "    <tr>\n",
       "      <th>2</th>\n",
       "      <td>(25,)</td>\n",
       "      <td>0.791071</td>\n",
       "      <td>0.782555</td>\n",
       "      <td>0.791071</td>\n",
       "    </tr>\n",
       "    <tr>\n",
       "      <th>3</th>\n",
       "      <td>(50,)</td>\n",
       "      <td>0.792857</td>\n",
       "      <td>0.786374</td>\n",
       "      <td>0.792857</td>\n",
       "    </tr>\n",
       "  </tbody>\n",
       "</table>\n",
       "</div>"
      ],
      "text/plain": [
       "  hidden_layers  accuracy  precision    recall\n",
       "0          (5,)  0.789062   0.781461  0.789062\n",
       "1         (10,)  0.793304   0.784387  0.793304\n",
       "2         (25,)  0.791071   0.782555  0.791071\n",
       "3         (50,)  0.792857   0.786374  0.792857"
      ]
     },
     "metadata": {},
     "output_type": "display_data"
    },
    {
     "data": {
      "text/html": [
       "<div>\n",
       "<style scoped>\n",
       "    .dataframe tbody tr th:only-of-type {\n",
       "        vertical-align: middle;\n",
       "    }\n",
       "\n",
       "    .dataframe tbody tr th {\n",
       "        vertical-align: top;\n",
       "    }\n",
       "\n",
       "    .dataframe thead th {\n",
       "        text-align: right;\n",
       "    }\n",
       "</style>\n",
       "<table border=\"1\" class=\"dataframe\">\n",
       "  <thead>\n",
       "    <tr style=\"text-align: right;\">\n",
       "      <th></th>\n",
       "      <th>Previsto P</th>\n",
       "      <th>Previsto N</th>\n",
       "    </tr>\n",
       "  </thead>\n",
       "  <tbody>\n",
       "    <tr>\n",
       "      <th>Real P</th>\n",
       "      <td>2983</td>\n",
       "      <td>191</td>\n",
       "    </tr>\n",
       "    <tr>\n",
       "      <th>Real N</th>\n",
       "      <td>737</td>\n",
       "      <td>569</td>\n",
       "    </tr>\n",
       "  </tbody>\n",
       "</table>\n",
       "</div>"
      ],
      "text/plain": [
       "        Previsto P  Previsto N\n",
       "Real P        2983         191\n",
       "Real N         737         569"
      ]
     },
     "metadata": {},
     "output_type": "display_data"
    }
   ],
   "source": [
    "metricas_mlp_res, confusion_mlp = metricas_mlp()"
   ]
  },
  {
   "cell_type": "markdown",
   "id": "7c1e953e",
   "metadata": {},
   "source": [
    "> Pode-se utilizar gráficos para facilitar a visualização das métricas de desempenho dos diferentes modelos implementados"
   ]
  },
  {
   "cell_type": "code",
   "execution_count": 253,
   "id": "a5bcfc67",
   "metadata": {},
   "outputs": [],
   "source": [
    "import matplotlib.pyplot as plt\n",
    "def plotar_histograma(values, title):\n",
    "    values = values\n",
    "    model_labels = ['Baseline', 'KNN', 'Árvore de Decisão', 'MLP']\n",
    "    plt.figure(figsize=(14, 6))\n",
    "    plt.bar(model_labels, values)\n",
    "    plt.xlabel('Modelos')\n",
    "    plt.ylabel('Acurácia')\n",
    "    plt.title(title)\n",
    "    plt.show()"
   ]
  },
  {
   "cell_type": "code",
   "execution_count": 254,
   "id": "e79aab27",
   "metadata": {},
   "outputs": [
    {
     "data": {
      "image/png": "[encoded data removed]",
      "text/plain": [
       "<Figure size 1400x600 with 1 Axes>"
      ]
     },
     "metadata": {},
     "output_type": "display_data"
    }
   ],
   "source": [
    "accuracy_baseline = metrics_baseline['accuracy'].iloc[0]\n",
    "accuracy_knn = metricas_knn_res['accuracy'].iloc[0]\n",
    "accuracy_arvore = metricas_arvore_res['accuracy'].iloc[0]\n",
    "accuracy_mlp = metricas_mlp_res['accuracy'].iloc[0]\n",
    "plotar_histograma(values=[accuracy_baseline, accuracy_knn, accuracy_arvore, accuracy_mlp], title='Comparação de Acurácia entre os Modelos')"
   ]
  },
  {
   "cell_type": "code",
   "execution_count": 255,
   "id": "a0514b1b",
   "metadata": {},
   "outputs": [
    {
     "data": {
      "image/png": "[encoded data removed]",
      "text/plain": [
       "<Figure size 1400x600 with 1 Axes>"
      ]
     },
     "metadata": {},
     "output_type": "display_data"
    }
   ],
   "source": [
    "precision_baseline = metrics_baseline['precision'].iloc[0]\n",
    "precision_knn = metricas_knn_res['precision'].iloc[0]\n",
    "precision_arvore = metricas_arvore_res['precision'].iloc[0]\n",
    "precision_mlp = metricas_mlp_res['precision'].iloc[0]\n",
    "plotar_histograma(values=[precision_baseline, precision_knn, precision_arvore, precision_mlp], title='Comparação de Precisão entre os Modelos')"
   ]
  },
  {
   "cell_type": "code",
   "execution_count": 256,
   "id": "84da258a",
   "metadata": {},
   "outputs": [
    {
     "data": {
      "image/png": "[encoded data removed]",
      "text/plain": [
       "<Figure size 1400x600 with 1 Axes>"
      ]
     },
     "metadata": {},
     "output_type": "display_data"
    }
   ],
   "source": [
    "recall_baseline = metrics_baseline['recall'].iloc[0]\n",
    "recall_knn = metricas_knn_res['recall'].iloc[0]\n",
    "recall_arvore = metricas_arvore_res['recall'].iloc[0]\n",
    "recall_mlp = metricas_mlp_res['recall'].iloc[0]\n",
    "plotar_histograma(values=[recall_baseline, recall_knn, recall_arvore, recall_mlp], title='Comparação de Recall entre os Modelos')"
   ]
  },
  {
   "cell_type": "code",
   "execution_count": 309,
   "id": "f2403e0a",
   "metadata": {},
   "outputs": [],
   "source": [
    "def plotar_linha(values, title): \n",
    "    model_labels = ['Baseline', 'KNN', 'Árvore de Decisão', 'MLP']\n",
    "    accuracy_values = values\n",
    "    plt.figure(figsize=(14, 5))\n",
    "    plt.plot(model_labels, accuracy_values, marker='o')\n",
    "    plt.xlabel('Modelos')\n",
    "    plt.ylabel('Acurácia')\n",
    "    plt.title(title)\n",
    "    plt.show()"
   ]
  },
  {
   "cell_type": "code",
   "execution_count": 310,
   "id": "0167a062",
   "metadata": {
    "scrolled": false
   },
   "outputs": [
    {
     "data": {
      "image/png": "[encoded data removed]",
      "text/plain": [
       "<Figure size 1400x500 with 1 Axes>"
      ]
     },
     "metadata": {},
     "output_type": "display_data"
    }
   ],
   "source": [
    "plotar_linha(values=[accuracy_baseline, accuracy_knn, accuracy_arvore, accuracy_mlp], title='Tendência de Acurácia dos Modelos')"
   ]
  },
  {
   "cell_type": "code",
   "execution_count": 311,
   "id": "d36e1459",
   "metadata": {},
   "outputs": [
    {
     "data": {
      "image/png": "[encoded data removed]",
      "text/plain": [
       "<Figure size 1400x500 with 1 Axes>"
      ]
     },
     "metadata": {},
     "output_type": "display_data"
    }
   ],
   "source": [
    "plotar_linha(values=[precision_baseline, precision_knn, precision_arvore, precision_mlp], title='Tendência de Precisão dos Modelos')"
   ]
  },
  {
   "cell_type": "code",
   "execution_count": 312,
   "id": "f1e65b85",
   "metadata": {},
   "outputs": [
    {
     "data": {
      "image/png": "[encoded data removed]",
      "text/plain": [
       "<Figure size 1400x500 with 1 Axes>"
      ]
     },
     "metadata": {},
     "output_type": "display_data"
    }
   ],
   "source": [
    "plotar_linha(values=[recall_baseline, recall_knn, recall_arvore, recall_mlp], title='Tendência de Recall dos Modelos')"
   ]
  },
  {
   "cell_type": "code",
   "execution_count": 283,
   "id": "98f837c1",
   "metadata": {},
   "outputs": [
    {
     "data": {
      "image/png": "[encoded data removed]",
      "text/plain": [
       "<Figure size 640x480 with 1 Axes>"
      ]
     },
     "metadata": {},
     "output_type": "display_data"
    }
   ],
   "source": [
    "def plotar_dispersao():\n",
    "    precision_values = [precision_baseline, precision_knn, precision_arvore, precision_mlp]\n",
    "    recall_values = [recall_baseline, recall_knn, recall_arvore, recall_mlp]\n",
    "\n",
    "    plt.scatter(precision_values, recall_values)\n",
    "    plt.xlabel('Precisão')\n",
    "    plt.ylabel('Recall')\n",
    "    plt.title('Relação entre Precisão e Recall dos Modelos')\n",
    "    for i, label in enumerate(model_labels):\n",
    "        plt.annotate(label, (precision_values[i], recall_values[i]))\n",
    "    plt.show()\n",
    "\n",
    "plotar_dispersao()"
   ]
  },
  {
   "cell_type": "markdown",
   "id": "68653683",
   "metadata": {},
   "source": [
    "> Ao comparar os resultados obtidos entre os algoritmos (Baseline, KNN, MLP e Árvore de Decisão), pode-se destacar seus pontos fortes e fracos da seguinte maneira:\n",
    "\n",
    "> **Baseline:**\n",
    "> \n",
    "> * Pontos fortes: Acurácia razoável.\n",
    "> * Pontos fracos: Desequilíbrio significativo na classificação das amostras negativas, baixa precisão e incapacidade de realizar uma classificação adequada das amostras negativas.\n",
    "\n",
    "> **KNN:**\n",
    ">\n",
    "> * Pontos fortes: Aumento gradual da acurácia com o aumento do valor de k, alta precisão e recall.\n",
    "> * Pontos fracos: Acurácia inicial relativamente baixa, especialmente para k=1.\n",
    "\n",
    "> **MLP:**\n",
    ">\n",
    "> * Pontos fortes: Acurácia consistente em diferentes configurações de camadas ocultas, precisão moderada.\n",
    "> * Pontos fracos: Recall um pouco inferior em relação à acurácia e precisão.\n",
    "\n",
    "> **Árvore de Decisão:**\n",
    ">\n",
    "> * Pontos fortes: Acurácia razoável, precisão consistente em diferentes critérios de divisão.\n",
    "> * Pontos fracos: Recall um pouco inferior em relação à acurácia e precisão, dificuldade em classificar corretamente as amostras negativas."
   ]
  },
  {
   "cell_type": "markdown",
   "id": "175c570f",
   "metadata": {},
   "source": [
    "> Em termos gerais, todos os algoritmos apresentaram resultados aceitáveis, com acurácias na faixa de 0.70-0.80. No entanto, cada algoritmo possui suas particularidades:\n",
    "\n",
    "> O KNN obteve um bom desempenho, principalmente com valores mais altos de k, mostrando uma boa capacidade de classificação, especialmente para amostras positivas. No entanto, apresentou uma acurácia inicialmente mais baixa para k=1.\n",
    ">\n",
    "> A MLP mostrou uma consistência em diferentes configurações de camadas ocultas, mantendo uma acurácia e precisão moderadas. No entanto, seu recall foi um pouco inferior em comparação com as outras métricas.\n",
    "> \n",
    "> A Árvore de Decisão apresentou resultados razoáveis, com diferentes critérios de divisão. Demonstrou uma capacidade razoável de classificar corretamente as amostras positivas, mas teve dificuldade em classificar as amostras negativas.\n",
    "> \n",
    "> O Baseline, embora tenha obtido uma acurácia razoável, mostrou um desequilíbrio significativo na classificação das amostras negativas e baixa precisão, indicando uma taxa elevada de falsos positivos."
   ]
  }
 ],
 "metadata": {
  "kernelspec": {
   "display_name": "Python 3 (ipykernel)",
   "language": "python",
   "name": "python3"
  },
  "language_info": {
   "codemirror_mode": {
    "name": "ipython",
    "version": 3
   },
   "file_extension": ".py",
   "mimetype": "text/x-python",
   "name": "python",
   "nbconvert_exporter": "python",
   "pygments_lexer": "ipython3",
   "version": "3.9.1"
  }
 },
 "nbformat": 4,
 "nbformat_minor": 5
}
